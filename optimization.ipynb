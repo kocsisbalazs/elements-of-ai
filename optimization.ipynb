{
 "cells": [
  {
   "cell_type": "markdown",
   "metadata": {},
   "source": [
    "It's all about recoursion in practise !"
   ]
  },
  {
   "cell_type": "code",
   "execution_count": null,
   "metadata": {},
   "outputs": [],
   "source": [
    "def permutations(route, ports):\n",
    "    if not ports:  # If there are no more places to visit\n",
    "        print(' '.join(route))  # Print the places we've visited\n",
    "    else:\n",
    "        for port in ports:  # For each remaining place\n",
    "            new_route = route + [port]  # Add it to our list\n",
    "            remaining_ports = ports - {port}  # Remove it from the remaining places\n",
    "            permutations(new_route, remaining_ports)  # Try going to the next place\n",
    "\n",
    "# Start with Panama and the other places\n",
    "permutations(['PAN'], {'AMS', 'CAS', 'NYC', 'HEL'})\n"
   ]
  },
  {
   "cell_type": "code",
   "execution_count": null,
   "metadata": {},
   "outputs": [],
   "source": [
    "portnames = [\"PAN\", \"AMS\", \"CAS\", \"NYC\", \"HEL\"]\n",
    "\n",
    "D = [\n",
    "    [0, 8943, 8019, 3652, 10545],\n",
    "    [8943, 0, 2619, 6317, 2078],\n",
    "    [8019, 2619, 0, 5836, 4939],\n",
    "    [3652, 6317, 5836, 0, 7825],\n",
    "    [10545, 2078, 4939, 7825, 0]\n",
    "]\n",
    "\n",
    "co2 = 0.020\n",
    "smallest = 1000000\n",
    "bestroute = [0, 0, 0, 0, 0]\n",
    "\n",
    "\n",
    "def permutations(route, ports):\n",
    "    global smallest\n",
    "    global bestroute\n",
    "\n",
    "    if len(ports) == 0:\n",
    "        emissions = 0\n",
    "        for i in range(len(route) - 1):\n",
    "            emissions += D[route[i]][route[i + 1]]\n",
    "        emissions *= co2\n",
    "        if emissions < smallest:\n",
    "            smallest = emissions\n",
    "            bestroute = route.copy()\n",
    "        return\n",
    "\n",
    "    for port in ports:\n",
    "        permutations(route + [port], [p for p in ports if p != port])\n",
    "\n",
    "\n",
    "def main():\n",
    "    permutations([0], list(range(1, len(portnames))))\n",
    "    print(' '.join([portnames[i] for i in bestroute]) + \" %.1f kg\" % smallest)\n",
    "\n",
    "\n",
    "if __name__ == \"__main__\":\n",
    "    main()\n"
   ]
  },
  {
   "cell_type": "markdown",
   "metadata": {},
   "source": [
    "# Hill climbing\n",
    "Global/Local optima. Field of optimization has become a zoo where exotic algorithms roam wild: ant colony algorithms, genetic algorithms, simulated annealing, tabu search, and cuckoo search for examples."
   ]
  },
  {
   "cell_type": "code",
   "execution_count": 4,
   "metadata": {},
   "outputs": [
    {
     "name": "stdout",
     "output_type": "stream",
     "text": [
      "Start position:  73\n",
      "Final position:  68\n"
     ]
    }
   ],
   "source": [
    "import math\n",
    "import random\n",
    "\n",
    "# generate random mountains\n",
    "w = [0.05, random.random() / 3, random.random() / 3]\n",
    "h = [1.0 + math.sin(1 + x / 0.6) * w[0] + math.sin(-0.3 + x / 9.0) * w[1] + math.sin(-0.2 + x / 30.0) * w[2] for x in range(100)]\n",
    "\n",
    "def climb(x, h):\n",
    "    # keep climbing until we've found a summit\n",
    "    summit = False\n",
    "\n",
    "    # edit here\n",
    "    while not summit:\n",
    "        summit = True  # stop unless there's a way up\n",
    "\n",
    "        # Loop over the values x–5, ..., x+5\n",
    "        for x_new in range(max(0, x - 5), min(99, x + 5) + 1):\n",
    "            if h[x_new] > h[x]:\n",
    "                x = x_new  # move to the higher point\n",
    "                summit = False  # and keep going up\n",
    "                break\n",
    "\n",
    "    return x\n",
    "\n",
    "def main(h):\n",
    "    # start at a random place\n",
    "    x0 = random.randint(1, 98)\n",
    "    x = climb(x0, h)\n",
    "    return x0, x\n",
    "\n",
    "result = main(h)\n",
    "print(\"Start position:\", result[0])\n",
    "print(\"Final position:\", result[1])\n"
   ]
  },
  {
   "cell_type": "code",
   "execution_count": 8,
   "metadata": {},
   "outputs": [
    {
     "ename": "TypeError",
     "evalue": "can only concatenate str (not \"float\") to str",
     "output_type": "error",
     "traceback": [
      "\u001b[0;31m---------------------------------------------------------------------------\u001b[0m",
      "\u001b[0;31mTypeError\u001b[0m                                 Traceback (most recent call last)",
      "\u001b[1;32m/Users/kocsisbalazs/Desktop/Informatika/Artificial Inteligence/Building AI Course/optimization.ipynb Cell 6\u001b[0m line \u001b[0;36m<cell line: 12>\u001b[0;34m()\u001b[0m\n\u001b[1;32m      <a href='vscode-notebook-cell:/Users/kocsisbalazs/Desktop/Informatika/Artificial%20Inteligence/Building%20AI%20Course/optimization.ipynb#X21sZmlsZQ%3D%3D?line=8'>9</a>\u001b[0m \u001b[39mdef\u001b[39;00m \u001b[39mmain\u001b[39m():\n\u001b[1;32m     <a href='vscode-notebook-cell:/Users/kocsisbalazs/Desktop/Informatika/Artificial%20Inteligence/Building%20AI%20Course/optimization.ipynb#X21sZmlsZQ%3D%3D?line=9'>10</a>\u001b[0m     \u001b[39mprint\u001b[39m(\u001b[39m\"\u001b[39m\u001b[39mI love \u001b[39m\u001b[39m\"\u001b[39m \u001b[39m+\u001b[39m generate_word()) \n\u001b[0;32m---> <a href='vscode-notebook-cell:/Users/kocsisbalazs/Desktop/Informatika/Artificial%20Inteligence/Building%20AI%20Course/optimization.ipynb#X21sZmlsZQ%3D%3D?line=11'>12</a>\u001b[0m main()\n",
      "\u001b[1;32m/Users/kocsisbalazs/Desktop/Informatika/Artificial Inteligence/Building AI Course/optimization.ipynb Cell 6\u001b[0m line \u001b[0;36mmain\u001b[0;34m()\u001b[0m\n\u001b[1;32m      <a href='vscode-notebook-cell:/Users/kocsisbalazs/Desktop/Informatika/Artificial%20Inteligence/Building%20AI%20Course/optimization.ipynb#X21sZmlsZQ%3D%3D?line=8'>9</a>\u001b[0m \u001b[39mdef\u001b[39;00m \u001b[39mmain\u001b[39m():\n\u001b[0;32m---> <a href='vscode-notebook-cell:/Users/kocsisbalazs/Desktop/Informatika/Artificial%20Inteligence/Building%20AI%20Course/optimization.ipynb#X21sZmlsZQ%3D%3D?line=9'>10</a>\u001b[0m     \u001b[39mprint\u001b[39m(\u001b[39m\"\u001b[39m\u001b[39mI love \u001b[39m\u001b[39m\"\u001b[39m \u001b[39m+\u001b[39m generate_word())\n",
      "\u001b[1;32m/Users/kocsisbalazs/Desktop/Informatika/Artificial Inteligence/Building AI Course/optimization.ipynb Cell 6\u001b[0m line \u001b[0;36mgenerate_word\u001b[0;34m()\u001b[0m\n\u001b[1;32m      <a href='vscode-notebook-cell:/Users/kocsisbalazs/Desktop/Informatika/Artificial%20Inteligence/Building%20AI%20Course/optimization.ipynb#X21sZmlsZQ%3D%3D?line=3'>4</a>\u001b[0m choices \u001b[39m=\u001b[39m [\u001b[39m'\u001b[39m\u001b[39mdogs\u001b[39m\u001b[39m'\u001b[39m, \u001b[39m'\u001b[39m\u001b[39mcats\u001b[39m\u001b[39m'\u001b[39m, \u001b[39m'\u001b[39m\u001b[39mbats\u001b[39m\u001b[39m'\u001b[39m]\n\u001b[1;32m      <a href='vscode-notebook-cell:/Users/kocsisbalazs/Desktop/Informatika/Artificial%20Inteligence/Building%20AI%20Course/optimization.ipynb#X21sZmlsZQ%3D%3D?line=4'>5</a>\u001b[0m probabilities \u001b[39m=\u001b[39m [\u001b[39m'\u001b[39m\u001b[39m0.8\u001b[39m\u001b[39m'\u001b[39m, \u001b[39m'\u001b[39m\u001b[39m0.1\u001b[39m\u001b[39m'\u001b[39m, \u001b[39m'\u001b[39m\u001b[39m0.1\u001b[39m\u001b[39m'\u001b[39m]\n\u001b[0;32m----> <a href='vscode-notebook-cell:/Users/kocsisbalazs/Desktop/Informatika/Artificial%20Inteligence/Building%20AI%20Course/optimization.ipynb#X21sZmlsZQ%3D%3D?line=5'>6</a>\u001b[0m word \u001b[39m=\u001b[39m random\u001b[39m.\u001b[39;49mchoices(choices, weights\u001b[39m=\u001b[39;49mprobabilities)[\u001b[39m0\u001b[39m]\n\u001b[1;32m      <a href='vscode-notebook-cell:/Users/kocsisbalazs/Desktop/Informatika/Artificial%20Inteligence/Building%20AI%20Course/optimization.ipynb#X21sZmlsZQ%3D%3D?line=6'>7</a>\u001b[0m \u001b[39mreturn\u001b[39;00m word\n",
      "File \u001b[0;32m/Library/Frameworks/Python.framework/Versions/3.10/lib/python3.10/random.py:533\u001b[0m, in \u001b[0;36mRandom.choices\u001b[0;34m(self, population, weights, cum_weights, k)\u001b[0m\n\u001b[1;32m    531\u001b[0m \u001b[39mif\u001b[39;00m \u001b[39mlen\u001b[39m(cum_weights) \u001b[39m!=\u001b[39m n:\n\u001b[1;32m    532\u001b[0m     \u001b[39mraise\u001b[39;00m \u001b[39mValueError\u001b[39;00m(\u001b[39m'\u001b[39m\u001b[39mThe number of weights does not match the population\u001b[39m\u001b[39m'\u001b[39m)\n\u001b[0;32m--> 533\u001b[0m total \u001b[39m=\u001b[39m cum_weights[\u001b[39m-\u001b[39;49m\u001b[39m1\u001b[39;49m] \u001b[39m+\u001b[39;49m \u001b[39m0.0\u001b[39;49m   \u001b[39m# convert to float\u001b[39;00m\n\u001b[1;32m    534\u001b[0m \u001b[39mif\u001b[39;00m total \u001b[39m<\u001b[39m\u001b[39m=\u001b[39m \u001b[39m0.0\u001b[39m:\n\u001b[1;32m    535\u001b[0m     \u001b[39mraise\u001b[39;00m \u001b[39mValueError\u001b[39;00m(\u001b[39m'\u001b[39m\u001b[39mTotal of weights must be greater than zero\u001b[39m\u001b[39m'\u001b[39m)\n",
      "\u001b[0;31mTypeError\u001b[0m: can only concatenate str (not \"float\") to str"
     ]
    }
   ],
   "source": [
    "import random\n",
    "\n",
    "def generate_word():\n",
    "    choices = ['dogs', 'cats', 'bats']\n",
    "    probabilities = ['0.8', '0.1', '0.1']\n",
    "    word = random.choices(choices, weights=probabilities)[0]\n",
    "    return word\n",
    "\n",
    "def main():\n",
    "    print(\"I love \" + generate_word()) \n",
    "\n",
    "if __name__ == \"__main__\":\n",
    "    main()\n"
   ]
  }
 ],
 "metadata": {
  "kernelspec": {
   "display_name": "Python 3",
   "language": "python",
   "name": "python3"
  },
  "language_info": {
   "codemirror_mode": {
    "name": "ipython",
    "version": 3
   },
   "file_extension": ".py",
   "mimetype": "text/x-python",
   "name": "python",
   "nbconvert_exporter": "python",
   "pygments_lexer": "ipython3",
   "version": "3.10.0"
  }
 },
 "nbformat": 4,
 "nbformat_minor": 2
}
